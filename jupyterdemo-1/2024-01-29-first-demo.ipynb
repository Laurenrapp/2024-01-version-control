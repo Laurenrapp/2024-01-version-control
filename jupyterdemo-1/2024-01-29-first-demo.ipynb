{
 "cells": [
  {
   "cell_type": "markdown",
   "id": "07d7dece",
   "metadata": {},
   "source": [
    "# First Demo\n",
    "\n",
    "\n",
    "## Demonstrating how to use jupyter notebooks to spring data 2024.\n",
    "\n",
    "Data from this project was <a href=\"https://data.cityofnewyork.us/Social-Services/311-Service-Requests-from-2010-to-Present/erm2-nwe9/about_data\"> collected for 311 </a> on jan. 29, 2024. \n",
    "\n",
    "- #### item one\n",
    "- item two\n",
    "\n",
    "<img src=\"https://static01.nyt.com/images/2024/01/26/multimedia/00pol-voterconfusion-topart-lpwv/00pol-voterconfusion-topart-lpwv-threeByTwoMediumAt2X-v2.jpg?format=pjpg&quality=75&auto=webp&disable=upscale\">"
   ]
  },
  {
   "cell_type": "code",
   "execution_count": 1,
   "id": "44d1ea67",
   "metadata": {},
   "outputs": [
    {
     "name": "stdout",
     "output_type": "stream",
     "text": [
      "Hello World!\n"
     ]
    }
   ],
   "source": [
    "print (\"Hello World!\")"
   ]
  },
  {
   "cell_type": "code",
   "execution_count": 2,
   "id": "a5626358",
   "metadata": {},
   "outputs": [
    {
     "data": {
      "text/plain": [
       "700"
      ]
     },
     "execution_count": 2,
     "metadata": {},
     "output_type": "execute_result"
    }
   ],
   "source": [
    "1200 - 500 "
   ]
  },
  {
   "cell_type": "code",
   "execution_count": 3,
   "id": "ab575cea",
   "metadata": {},
   "outputs": [
    {
     "data": {
      "text/plain": [
       "100000000"
      ]
     },
     "execution_count": 3,
     "metadata": {},
     "output_type": "execute_result"
    }
   ],
   "source": [
    "100_000_000"
   ]
  },
  {
   "cell_type": "code",
   "execution_count": 4,
   "id": "93ca5530",
   "metadata": {},
   "outputs": [],
   "source": [
    "monthly_income = 1_200"
   ]
  },
  {
   "cell_type": "code",
   "execution_count": 5,
   "id": "7f8df6d3",
   "metadata": {},
   "outputs": [
    {
     "data": {
      "text/plain": [
       "1200"
      ]
     },
     "execution_count": 5,
     "metadata": {},
     "output_type": "execute_result"
    }
   ],
   "source": [
    "monthly_income"
   ]
  },
  {
   "cell_type": "code",
   "execution_count": 6,
   "id": "7d53075b",
   "metadata": {},
   "outputs": [],
   "source": [
    "monthly_rent = 500"
   ]
  },
  {
   "cell_type": "code",
   "execution_count": 7,
   "id": "6e1133cd",
   "metadata": {},
   "outputs": [],
   "source": [
    "balance = monthly_income - monthly_rent"
   ]
  },
  {
   "cell_type": "code",
   "execution_count": null,
   "id": "4a53e812",
   "metadata": {},
   "outputs": [],
   "source": []
  },
  {
   "cell_type": "code",
   "execution_count": 8,
   "id": "5dc868ac",
   "metadata": {},
   "outputs": [
    {
     "ename": "NameError",
     "evalue": "name 'food_expense' is not defined",
     "output_type": "error",
     "traceback": [
      "\u001b[0;31m---------------------------------------------------------------------------\u001b[0m",
      "\u001b[0;31mNameError\u001b[0m                                 Traceback (most recent call last)",
      "Cell \u001b[0;32mIn[8], line 1\u001b[0m\n\u001b[0;32m----> 1\u001b[0m balance \u001b[38;5;241m=\u001b[39m balance \u001b[38;5;241m-\u001b[39m food_expense\n\u001b[1;32m      2\u001b[0m balance\n",
      "\u001b[0;31mNameError\u001b[0m: name 'food_expense' is not defined"
     ]
    }
   ],
   "source": [
    "balance = balance - food_expense\n",
    "balance "
   ]
  },
  {
   "cell_type": "code",
   "execution_count": null,
   "id": "2a01cbfb",
   "metadata": {},
   "outputs": [],
   "source": []
  }
 ],
 "metadata": {
  "kernelspec": {
   "display_name": "Python 3 (ipykernel)",
   "language": "python",
   "name": "python3"
  },
  "language_info": {
   "codemirror_mode": {
    "name": "ipython",
    "version": 3
   },
   "file_extension": ".py",
   "mimetype": "text/x-python",
   "name": "python",
   "nbconvert_exporter": "python",
   "pygments_lexer": "ipython3",
   "version": "3.11.5"
  }
 },
 "nbformat": 4,
 "nbformat_minor": 5
}
